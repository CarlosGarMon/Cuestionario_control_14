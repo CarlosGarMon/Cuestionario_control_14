{
  "nbformat": 4,
  "nbformat_minor": 0,
  "metadata": {
    "colab": {
      "name": "colas_1310.ipynb",
      "provenance": [],
      "collapsed_sections": [],
      "authorship_tag": "ABX9TyMlUpY0vMAeiZ2QFrpzqy/+",
      "include_colab_link": true
    },
    "kernelspec": {
      "name": "python3",
      "display_name": "Python 3"
    },
    "language_info": {
      "name": "python"
    }
  },
  "cells": [
    {
      "cell_type": "markdown",
      "metadata": {
        "id": "view-in-github",
        "colab_type": "text"
      },
      "source": [
        "<a href=\"https://colab.research.google.com/github/CarlosGarMon/Cuestionario_control_14/blob/main/colas_1310.ipynb\" target=\"_parent\"><img src=\"https://colab.research.google.com/assets/colab-badge.svg\" alt=\"Open In Colab\"/></a>"
      ]
    },
    {
      "cell_type": "code",
      "metadata": {
        "id": "q-SFajkUJZST"
      },
      "source": [
        "class QueueADT:\n",
        "    def __init__( self ):\n",
        "        self.data = []\n",
        "    \n",
        "    def is_empty( self ):\n",
        "        return len( self.data ) == 0\n",
        "    \n",
        "    def length( self ):\n",
        "        return len( self.data )\n",
        "    \n",
        "    def enqueue( self, value ):\n",
        "        self.data.append( value )\n",
        "    \n",
        "    def dequeue( self ):\n",
        "        return self.data.pop(0)\n",
        "    \n",
        "    def to_string( self ):\n",
        "        for elem in self.data:\n",
        "            print(f\"|{elem}| <-- \", end= \"\")\n",
        "        print(\"\")"
      ],
      "execution_count": 3,
      "outputs": []
    },
    {
      "cell_type": "code",
      "metadata": {
        "id": "4qci0jCGNZe2"
      },
      "source": [
        "cola = QueueADT()\n",
        "print(\"Está vacío? R=\", cola.is_empty())\n",
        "print(\"Numero de elementos: \", cola.length())\n",
        "cola.enqueue(10)\n",
        "cola.enqueue(20)\n",
        "cola.enqueue(30)\n",
        "print(\"\\nEstá vacío? R=\", cola.is_empty())\n",
        "print(\"Numero de elementos: \", cola.length())\n",
        "cola.enqueue(40)\n",
        "cola.enqueue(50)\n",
        "cola.enqueue(60)\n",
        "cola.to_string()\n",
        "\n",
        "siguiente = cola.dequeue()\n",
        "print(\"Atendiendo a: \", siguiente)\n",
        "cola.to_string()"
      ],
      "execution_count": null,
      "outputs": []
    },
    {
      "cell_type": "markdown",
      "metadata": {
        "id": "1e5oPw4fQnmF"
      },
      "source": [
        "#Variantes del ADT Cola\n",
        "1. Circulares \n",
        "2. De Prioridad\n",
        "    1. Acotada\n",
        "    2. NO acotada "
      ]
    },
    {
      "cell_type": "code",
      "metadata": {
        "id": "i3x7NksFDl4G"
      },
      "source": [
        "#Implementación de la cola de prioridad acotada\n",
        "\n",
        "class BoundedPriorityQueue:\n",
        "    def __init__( self, niveles ):\n",
        "        self.__data = [ QueueADT() for x in range(niveles) ]\n",
        "        #Para hacerlo con Array:\n",
        "        #self.__data = Array(niveles)\n",
        "        #self.__data.clear( QueueADT() )\n",
        "        self.__size = 0\n",
        "\n",
        "    def is_empty( self ):\n",
        "        return self.__size == 0\n",
        "\n",
        "    def length( self ):\n",
        "        return self.__size \n",
        "    \n",
        "    def enqueue( self, prioridad, elem):\n",
        "        if prioridad < len( self.__data ) and prioridad >= 0:\n",
        "            self.__data[ prioridad ].enqueue( elem )\n",
        "            self.__size += 1\n",
        "    \n",
        "    def dequeue( self ):\n",
        "        nivel = 0\n",
        "        while self.__data[nivel].is_empty() and nivel < self.length():\n",
        "            nivel += 1\n",
        "        \n",
        "        if nivel >= self.length():\n",
        "            print(\"Cola está vacía\")\n",
        "        else: \n",
        "            return self.__data[ nivel ].dequeue()\n",
        "            self.__size -= 1 #################\n",
        "        \n",
        "    def to_string( self ):\n",
        "        prioridad = 0\n",
        "        for cola in self.__data:\n",
        "            print(f\"Prioridad {prioridad} -> \", end=\"\")\n",
        "            cola.to_string()\n",
        "            prioridad += 1"
      ],
      "execution_count": 40,
      "outputs": []
    },
    {
      "cell_type": "code",
      "metadata": {
        "colab": {
          "base_uri": "https://localhost:8080/"
        },
        "id": "eTnBcoNZM22q",
        "outputId": "a0e09bda-5864-4128-d3f2-5e2f7046f098"
      },
      "source": [
        "#Prueba de cola con prioridad \n",
        "salvavidas = BoundedPriorityQueue( 7 )\n",
        "salvavidas.enqueue( 4, \"Maestre\")\n",
        "salvavidas.enqueue( 1, \"Niños\")\n",
        "salvavidas.enqueue( 4, \"Mecanico\")\n",
        "salvavidas.enqueue( 3, \"Mujeres\")\n",
        "salvavidas.enqueue( 2, \"3ra Edad\")\n",
        "salvavidas.enqueue( 1, \"Niñas\")\n",
        "salvavidas.enqueue( 3, \"Hombres\")\n",
        "salvavidas.enqueue( 4, \"Vigia\")\n",
        "salvavidas.enqueue( 5, \"Capitan\")\n",
        "salvavidas.enqueue( 4, \"Timonel\")\n",
        "salvavidas.to_string()\n",
        "sig = salvavidas.dequeue()\n",
        "print(f\"Subiendo a {sig} al bote salvavidas\")\n",
        "salvavidas.to_string()"
      ],
      "execution_count": 38,
      "outputs": [
        {
          "output_type": "stream",
          "name": "stdout",
          "text": [
            "Prioridad 0 -> \n",
            "Prioridad 1 -> |Niños| <-- |Niñas| <-- \n",
            "Prioridad 2 -> |3ra Edad| <-- \n",
            "Prioridad 3 -> |Mujeres| <-- |Hombres| <-- \n",
            "Prioridad 4 -> |Maestre| <-- |Mecanico| <-- |Vigia| <-- |Timonel| <-- \n",
            "Prioridad 5 -> |Capitan| <-- \n",
            "Prioridad 6 -> \n",
            "Subiendo a Niños al bote salvavidas\n",
            "Prioridad 0 -> \n",
            "Prioridad 1 -> |Niñas| <-- \n",
            "Prioridad 2 -> |3ra Edad| <-- \n",
            "Prioridad 3 -> |Mujeres| <-- |Hombres| <-- \n",
            "Prioridad 4 -> |Maestre| <-- |Mecanico| <-- |Vigia| <-- |Timonel| <-- \n",
            "Prioridad 5 -> |Capitan| <-- \n",
            "Prioridad 6 -> \n"
          ]
        }
      ]
    },
    {
      "cell_type": "code",
      "metadata": {
        "id": "afRZhz34RxUo"
      },
      "source": [
        "# Implementación de las colas de prioridad\n",
        "\n",
        "class PriorityQueue:\n",
        "    def __init__( self ):\n",
        "        self.__data = []\n",
        "        self.__size = 0\n",
        "    \n",
        "    def is_empty( self ):\n",
        "        return self.__size == 0\n",
        "\n",
        "    def length( self ):\n",
        "        return self.__size\n",
        "\n",
        "    def enqueue( self, prioridad, elem ):\n",
        "        existe = False \n",
        "        indice = 0\n",
        "        for index in range(len(self.__data)):\n",
        "            if self.__data[index][\"prioridad\"] == prioridad:\n",
        "                existe = True\n",
        "                indice = index  \n",
        "\n",
        "        if existe:\n",
        "            self.__data[indice][\"cola\"].enqueue(elem)\n",
        "        else:\n",
        "            self.__data.append({\"prioridad\" : prioridad, \"cola\": QueueADT() })\n",
        "            self.__data[-1][\"cola\"].enqueue(elem)\n",
        "\n",
        "    def to_string( self ):\n",
        "        for cola in self.__data:\n",
        "            print(cola[\"prioridad\"], end = \"\")\n",
        "            cola[\"cola\"].to_string()\n",
        "            "
      ],
      "execution_count": 55,
      "outputs": []
    },
    {
      "cell_type": "code",
      "metadata": {
        "colab": {
          "base_uri": "https://localhost:8080/"
        },
        "id": "wOlIu-x5WeUf",
        "outputId": "7d815111-bdf1-40b1-db3b-2a07271b528a"
      },
      "source": [
        "cp = PriorityQueue()\n",
        "cp.enqueue(1,\"Niñas\")\n",
        "cp.enqueue(2,\"Niños\")\n",
        "cp.enqueue(2,\"Profesores\")\n",
        "cp.enqueue(0,\"Presidante de EU\")\n",
        "cp.to_string()"
      ],
      "execution_count": 57,
      "outputs": [
        {
          "output_type": "stream",
          "name": "stdout",
          "text": [
            "1|Niñas| <-- \n",
            "2|Niños| <-- |Profesores| <-- \n",
            "0|Presidante de EU| <-- \n"
          ]
        }
      ]
    }
  ]
}